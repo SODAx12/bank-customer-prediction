{
  "nbformat": 4,
  "nbformat_minor": 0,
  "metadata": {
    "colab": {
      "name": "bank_customer_pred (ANN).ipynb",
      "provenance": [],
      "collapsed_sections": [],
      "include_colab_link": true
    },
    "kernelspec": {
      "name": "python3",
      "display_name": "Python 3"
    }
  },
  "cells": [
    {
      "cell_type": "markdown",
      "metadata": {
        "id": "view-in-github",
        "colab_type": "text"
      },
      "source": [
        "<a href=\"https://colab.research.google.com/github/SODAx12/bank-customer-prediction/blob/main/bank_customer_pred_(ANN).ipynb\" target=\"_parent\"><img src=\"https://colab.research.google.com/assets/colab-badge.svg\" alt=\"Open In Colab\"/></a>"
      ]
    },
    {
      "cell_type": "markdown",
      "metadata": {
        "id": "lP6JLo1tGNBg"
      },
      "source": [
        "# Artificial Neural Network"
      ]
    },
    {
      "cell_type": "markdown",
      "metadata": {
        "id": "gWZyYmS_UE_L"
      },
      "source": [
        "### Importing the libraries"
      ]
    },
    {
      "cell_type": "code",
      "metadata": {
        "id": "NgdOEWNPGYZ3"
      },
      "source": [
        "import numpy as np\n",
        "import tensorflow as tf\n",
        "import pandas as pd"
      ],
      "execution_count": null,
      "outputs": []
    },
    {
      "cell_type": "code",
      "metadata": {
        "id": "ZaTwK7ojXr2F",
        "colab": {
          "base_uri": "https://localhost:8080/",
          "height": 36
        },
        "outputId": "0f66140f-6f60-41a3-bec9-e07ab1be9c0f"
      },
      "source": [
        "tf.__version__"
      ],
      "execution_count": null,
      "outputs": [
        {
          "output_type": "execute_result",
          "data": {
            "text/plain": [
              "'2.8.2'"
            ],
            "application/vnd.google.colaboratory.intrinsic+json": {
              "type": "string"
            }
          },
          "metadata": {},
          "execution_count": 6
        }
      ]
    },
    {
      "cell_type": "code",
      "source": [
        "from google.colab import drive\n",
        "drive.mount('/content/drive')"
      ],
      "metadata": {
        "colab": {
          "base_uri": "https://localhost:8080/"
        },
        "id": "FmTAxGIhSi3D",
        "outputId": "4f3ca79d-d3f2-42c0-dd57-bc936b3549d6"
      },
      "execution_count": null,
      "outputs": [
        {
          "output_type": "stream",
          "name": "stdout",
          "text": [
            "Mounted at /content/drive\n"
          ]
        }
      ]
    },
    {
      "cell_type": "markdown",
      "metadata": {
        "id": "1E0Q3aoKUCRX"
      },
      "source": [
        "## Part 1 - Data Preprocessing"
      ]
    },
    {
      "cell_type": "markdown",
      "metadata": {
        "id": "cKWAkFVGUU0Z"
      },
      "source": [
        "### Importing the dataset"
      ]
    },
    {
      "cell_type": "code",
      "metadata": {
        "id": "m8O_d6ghGws_"
      },
      "source": [
        "dataset=pd.read_csv('/content/drive/MyDrive/ML/Customer_data.csv')\n",
        "x=dataset.iloc[:,3:-1].values\n",
        "y=dataset.iloc[:,-1].values\n"
      ],
      "execution_count": null,
      "outputs": []
    },
    {
      "cell_type": "code",
      "metadata": {
        "id": "VYP9cQTWbzuI",
        "colab": {
          "base_uri": "https://localhost:8080/"
        },
        "outputId": "0844c537-5dc9-49dd-d7a4-39aee7a28cee"
      },
      "source": [
        "print(x)"
      ],
      "execution_count": null,
      "outputs": [
        {
          "output_type": "stream",
          "name": "stdout",
          "text": [
            "[[619 'France' 'Female' ... 1 1 101348.88]\n",
            " [608 'Spain' 'Female' ... 0 1 112542.58]\n",
            " [502 'France' 'Female' ... 1 0 113931.57]\n",
            " ...\n",
            " [709 'France' 'Female' ... 0 1 42085.58]\n",
            " [772 'Germany' 'Male' ... 1 0 92888.52]\n",
            " [792 'France' 'Female' ... 1 0 38190.78]]\n"
          ]
        }
      ]
    },
    {
      "cell_type": "code",
      "metadata": {
        "colab": {
          "base_uri": "https://localhost:8080/"
        },
        "id": "E76aTlmIDvPB",
        "outputId": "5a9738ba-e50e-4849-c378-c65c9e1dd628"
      },
      "source": [
        "print(y)"
      ],
      "execution_count": null,
      "outputs": [
        {
          "output_type": "stream",
          "name": "stdout",
          "text": [
            "[1 0 1 ... 1 1 0]\n"
          ]
        }
      ]
    },
    {
      "cell_type": "markdown",
      "metadata": {
        "id": "N6bQ0UgSU-NJ"
      },
      "source": [
        "### Encoding categorical data"
      ]
    },
    {
      "cell_type": "markdown",
      "metadata": {
        "id": "le5MJreAbW52"
      },
      "source": [
        "Label Encoding the \"Gender\" column"
      ]
    },
    {
      "cell_type": "code",
      "metadata": {
        "id": "F3Wl8K-oEY73"
      },
      "source": [
        "from sklearn.preprocessing import LabelEncoder\n",
        "le=LabelEncoder()\n",
        "x[:,2]=le.fit_transform(x[:,2])"
      ],
      "execution_count": null,
      "outputs": []
    },
    {
      "cell_type": "code",
      "metadata": {
        "colab": {
          "base_uri": "https://localhost:8080/"
        },
        "id": "PJNUfN2fE07l",
        "outputId": "8fdacd09-b2a6-47b3-8501-d4092595f6c8"
      },
      "source": [
        "print(x)"
      ],
      "execution_count": null,
      "outputs": [
        {
          "output_type": "stream",
          "name": "stdout",
          "text": [
            "[[619 'France' 0 ... 1 1 101348.88]\n",
            " [608 'Spain' 0 ... 0 1 112542.58]\n",
            " [502 'France' 0 ... 1 0 113931.57]\n",
            " ...\n",
            " [709 'France' 0 ... 0 1 42085.58]\n",
            " [772 'Germany' 1 ... 1 0 92888.52]\n",
            " [792 'France' 0 ... 1 0 38190.78]]\n"
          ]
        }
      ]
    },
    {
      "cell_type": "markdown",
      "metadata": {
        "id": "CUxGZezpbMcb"
      },
      "source": [
        "One Hot Encoding the \"Geography\" column"
      ]
    },
    {
      "cell_type": "code",
      "metadata": {
        "id": "Qav1zKDMFBH-"
      },
      "source": [
        "from sklearn.compose import ColumnTransformer\n",
        "from sklearn.preprocessing import OneHotEncoder\n",
        "ct=ColumnTransformer(transformers=[('encoder',OneHotEncoder(),[1])],remainder='passthrough')\n",
        "x=np.array(ct.fit_transform(x))"
      ],
      "execution_count": null,
      "outputs": []
    },
    {
      "cell_type": "code",
      "metadata": {
        "colab": {
          "base_uri": "https://localhost:8080/"
        },
        "id": "J8gKUaBcFvGl",
        "outputId": "24b7297c-15aa-48ac-a5c5-772116473adb"
      },
      "source": [
        "print(x)"
      ],
      "execution_count": null,
      "outputs": [
        {
          "output_type": "stream",
          "name": "stdout",
          "text": [
            "[[1.0 0.0 0.0 ... 1 1 101348.88]\n",
            " [0.0 0.0 1.0 ... 0 1 112542.58]\n",
            " [1.0 0.0 0.0 ... 1 0 113931.57]\n",
            " ...\n",
            " [1.0 0.0 0.0 ... 0 1 42085.58]\n",
            " [0.0 1.0 0.0 ... 1 0 92888.52]\n",
            " [1.0 0.0 0.0 ... 1 0 38190.78]]\n"
          ]
        }
      ]
    },
    {
      "cell_type": "markdown",
      "metadata": {
        "id": "vHol938cW8zd"
      },
      "source": [
        "### Splitting the dataset into the Training set and Test set"
      ]
    },
    {
      "cell_type": "code",
      "metadata": {
        "id": "pe_B5NoyHKkM"
      },
      "source": [
        "from sklearn.model_selection import train_test_split\n",
        "xtrain,xtest,ytrain,ytest=train_test_split(x,y,test_size=0.2,random_state=1)"
      ],
      "execution_count": null,
      "outputs": []
    },
    {
      "cell_type": "markdown",
      "metadata": {
        "id": "RE_FcHyfV3TQ"
      },
      "source": [
        "### Feature Scaling"
      ]
    },
    {
      "cell_type": "code",
      "metadata": {
        "id": "t9yu1Un2HUVK"
      },
      "source": [
        "from sklearn.preprocessing import StandardScaler\n",
        "sc=StandardScaler()\n",
        "xtrain=sc.fit_transform(xtrain)\n",
        "xtest=sc.transform(xtest)\n",
        "print(xtrain)"
      ],
      "execution_count": null,
      "outputs": []
    },
    {
      "cell_type": "markdown",
      "metadata": {
        "id": "-zfEzkRVXIwF"
      },
      "source": [
        "## Part 2 - Building the ANN"
      ]
    },
    {
      "cell_type": "code",
      "metadata": {
        "id": "T19JP3_5G4zI"
      },
      "source": [
        "ann=tf.keras.models.Sequential()"
      ],
      "execution_count": null,
      "outputs": []
    },
    {
      "cell_type": "code",
      "metadata": {
        "id": "z01fmfN-G7Cg"
      },
      "source": [
        "ann.add(tf.keras.layers.Dense(units=8,activation='relu'))"
      ],
      "execution_count": null,
      "outputs": []
    },
    {
      "cell_type": "code",
      "metadata": {
        "id": "ayXEYYAdJg8D"
      },
      "source": [
        "ann.add(tf.keras.layers.Dense(units=8,activation='relu'))"
      ],
      "execution_count": null,
      "outputs": []
    },
    {
      "cell_type": "code",
      "metadata": {
        "id": "09r1I6x1Jojj"
      },
      "source": [
        "ann.add(tf.keras.layers.Dense(units=1,activation='sigmoid'))"
      ],
      "execution_count": null,
      "outputs": []
    },
    {
      "cell_type": "markdown",
      "metadata": {
        "id": "JT4u2S1_Y4WG"
      },
      "source": [
        "## Part 3 - Training the ANN"
      ]
    },
    {
      "cell_type": "markdown",
      "metadata": {
        "id": "8GWlJChhY_ZI"
      },
      "source": [
        "### Compiling the ANN"
      ]
    },
    {
      "cell_type": "code",
      "metadata": {
        "id": "rsyDGI8uKETe"
      },
      "source": [
        "ann.compile(optimizer='adam', loss='binary_crossentropy',metrics=['accuracy'])"
      ],
      "execution_count": null,
      "outputs": []
    },
    {
      "cell_type": "markdown",
      "metadata": {
        "id": "0QR_G5u7ZLSM"
      },
      "source": [
        "### Training the ANN on the Training set"
      ]
    },
    {
      "cell_type": "code",
      "metadata": {
        "colab": {
          "base_uri": "https://localhost:8080/"
        },
        "id": "bWh_781GM9tT",
        "outputId": "426d5e88-a4b9-48f7-d150-d775ee1ff1d7"
      },
      "source": [
        "ann.fit(xtrain,ytrain,batch_size=30,epochs=150)"
      ],
      "execution_count": null,
      "outputs": [
        {
          "output_type": "stream",
          "name": "stdout",
          "text": [
            "Epoch 1/150\n",
            "267/267 [==============================] - 1s 2ms/step - loss: 0.6233 - accuracy: 0.8476\n",
            "Epoch 2/150\n",
            "267/267 [==============================] - 0s 2ms/step - loss: 0.4957 - accuracy: 0.8654\n",
            "Epoch 3/150\n",
            "267/267 [==============================] - 0s 2ms/step - loss: 0.4101 - accuracy: 0.8673\n",
            "Epoch 4/150\n",
            "267/267 [==============================] - 0s 2ms/step - loss: 0.3693 - accuracy: 0.8660\n",
            "Epoch 5/150\n",
            "267/267 [==============================] - 0s 2ms/step - loss: 0.3523 - accuracy: 0.8677\n",
            "Epoch 6/150\n",
            "267/267 [==============================] - 0s 2ms/step - loss: 0.3430 - accuracy: 0.8685\n",
            "Epoch 7/150\n",
            "267/267 [==============================] - 0s 2ms/step - loss: 0.3392 - accuracy: 0.8675\n",
            "Epoch 8/150\n",
            "267/267 [==============================] - 0s 2ms/step - loss: 0.3352 - accuracy: 0.8656\n",
            "Epoch 9/150\n",
            "267/267 [==============================] - 0s 2ms/step - loss: 0.3331 - accuracy: 0.8692\n",
            "Epoch 10/150\n",
            "267/267 [==============================] - 0s 2ms/step - loss: 0.3313 - accuracy: 0.8671\n",
            "Epoch 11/150\n",
            "267/267 [==============================] - 0s 2ms/step - loss: 0.3308 - accuracy: 0.8675\n",
            "Epoch 12/150\n",
            "267/267 [==============================] - 0s 2ms/step - loss: 0.3286 - accuracy: 0.8700\n",
            "Epoch 13/150\n",
            "267/267 [==============================] - 0s 2ms/step - loss: 0.3281 - accuracy: 0.8696\n",
            "Epoch 14/150\n",
            "267/267 [==============================] - 0s 2ms/step - loss: 0.3286 - accuracy: 0.8689\n",
            "Epoch 15/150\n",
            "267/267 [==============================] - 0s 2ms/step - loss: 0.3266 - accuracy: 0.8659\n",
            "Epoch 16/150\n",
            "267/267 [==============================] - 0s 2ms/step - loss: 0.3264 - accuracy: 0.8681\n",
            "Epoch 17/150\n",
            "267/267 [==============================] - 0s 2ms/step - loss: 0.3282 - accuracy: 0.8676\n",
            "Epoch 18/150\n",
            "267/267 [==============================] - 0s 2ms/step - loss: 0.3257 - accuracy: 0.8695\n",
            "Epoch 19/150\n",
            "267/267 [==============================] - 0s 2ms/step - loss: 0.3259 - accuracy: 0.8676\n",
            "Epoch 20/150\n",
            "267/267 [==============================] - 0s 2ms/step - loss: 0.3259 - accuracy: 0.8669\n",
            "Epoch 21/150\n",
            "267/267 [==============================] - 0s 2ms/step - loss: 0.3256 - accuracy: 0.8686\n",
            "Epoch 22/150\n",
            "267/267 [==============================] - 0s 2ms/step - loss: 0.3255 - accuracy: 0.8670\n",
            "Epoch 23/150\n",
            "267/267 [==============================] - 0s 2ms/step - loss: 0.3243 - accuracy: 0.8691\n",
            "Epoch 24/150\n",
            "267/267 [==============================] - 0s 2ms/step - loss: 0.3240 - accuracy: 0.8694\n",
            "Epoch 25/150\n",
            "267/267 [==============================] - 0s 2ms/step - loss: 0.3245 - accuracy: 0.8683\n",
            "Epoch 26/150\n",
            "267/267 [==============================] - 0s 2ms/step - loss: 0.3245 - accuracy: 0.8679\n",
            "Epoch 27/150\n",
            "267/267 [==============================] - 0s 2ms/step - loss: 0.3247 - accuracy: 0.8694\n",
            "Epoch 28/150\n",
            "267/267 [==============================] - 0s 2ms/step - loss: 0.3234 - accuracy: 0.8691\n",
            "Epoch 29/150\n",
            "267/267 [==============================] - 0s 2ms/step - loss: 0.3226 - accuracy: 0.8686\n",
            "Epoch 30/150\n",
            "267/267 [==============================] - 0s 2ms/step - loss: 0.3238 - accuracy: 0.8685\n",
            "Epoch 31/150\n",
            "267/267 [==============================] - 0s 2ms/step - loss: 0.3237 - accuracy: 0.8704\n",
            "Epoch 32/150\n",
            "267/267 [==============================] - 0s 2ms/step - loss: 0.3238 - accuracy: 0.8691\n",
            "Epoch 33/150\n",
            "267/267 [==============================] - 0s 2ms/step - loss: 0.3224 - accuracy: 0.8680\n",
            "Epoch 34/150\n",
            "267/267 [==============================] - 0s 2ms/step - loss: 0.3221 - accuracy: 0.8695\n",
            "Epoch 35/150\n",
            "267/267 [==============================] - 0s 2ms/step - loss: 0.3237 - accuracy: 0.8662\n",
            "Epoch 36/150\n",
            "267/267 [==============================] - 0s 2ms/step - loss: 0.3237 - accuracy: 0.8691\n",
            "Epoch 37/150\n",
            "267/267 [==============================] - 0s 2ms/step - loss: 0.3226 - accuracy: 0.8702\n",
            "Epoch 38/150\n",
            "267/267 [==============================] - 0s 2ms/step - loss: 0.3217 - accuracy: 0.8709\n",
            "Epoch 39/150\n",
            "267/267 [==============================] - 0s 2ms/step - loss: 0.3219 - accuracy: 0.8701\n",
            "Epoch 40/150\n",
            "267/267 [==============================] - 0s 2ms/step - loss: 0.3228 - accuracy: 0.8689\n",
            "Epoch 41/150\n",
            "267/267 [==============================] - 0s 2ms/step - loss: 0.3221 - accuracy: 0.8683\n",
            "Epoch 42/150\n",
            "267/267 [==============================] - 0s 2ms/step - loss: 0.3235 - accuracy: 0.8691\n",
            "Epoch 43/150\n",
            "267/267 [==============================] - 0s 2ms/step - loss: 0.3224 - accuracy: 0.8680\n",
            "Epoch 44/150\n",
            "267/267 [==============================] - 0s 2ms/step - loss: 0.3221 - accuracy: 0.8689\n",
            "Epoch 45/150\n",
            "267/267 [==============================] - 0s 2ms/step - loss: 0.3220 - accuracy: 0.8698\n",
            "Epoch 46/150\n",
            "267/267 [==============================] - 0s 2ms/step - loss: 0.3223 - accuracy: 0.8684\n",
            "Epoch 47/150\n",
            "267/267 [==============================] - 0s 2ms/step - loss: 0.3214 - accuracy: 0.8696\n",
            "Epoch 48/150\n",
            "267/267 [==============================] - 0s 2ms/step - loss: 0.3220 - accuracy: 0.8706\n",
            "Epoch 49/150\n",
            "267/267 [==============================] - 0s 2ms/step - loss: 0.3223 - accuracy: 0.8689\n",
            "Epoch 50/150\n",
            "267/267 [==============================] - 0s 2ms/step - loss: 0.3217 - accuracy: 0.8700\n",
            "Epoch 51/150\n",
            "267/267 [==============================] - 0s 2ms/step - loss: 0.3230 - accuracy: 0.8683\n",
            "Epoch 52/150\n",
            "267/267 [==============================] - 0s 2ms/step - loss: 0.3222 - accuracy: 0.8684\n",
            "Epoch 53/150\n",
            "267/267 [==============================] - 0s 2ms/step - loss: 0.3212 - accuracy: 0.8698\n",
            "Epoch 54/150\n",
            "267/267 [==============================] - 0s 2ms/step - loss: 0.3210 - accuracy: 0.8681\n",
            "Epoch 55/150\n",
            "267/267 [==============================] - 0s 2ms/step - loss: 0.3213 - accuracy: 0.8687\n",
            "Epoch 56/150\n",
            "267/267 [==============================] - 0s 2ms/step - loss: 0.3210 - accuracy: 0.8691\n",
            "Epoch 57/150\n",
            "267/267 [==============================] - 0s 2ms/step - loss: 0.3219 - accuracy: 0.8686\n",
            "Epoch 58/150\n",
            "267/267 [==============================] - 0s 2ms/step - loss: 0.3224 - accuracy: 0.8690\n",
            "Epoch 59/150\n",
            "267/267 [==============================] - 0s 2ms/step - loss: 0.3214 - accuracy: 0.8691\n",
            "Epoch 60/150\n",
            "267/267 [==============================] - 0s 2ms/step - loss: 0.3211 - accuracy: 0.8692\n",
            "Epoch 61/150\n",
            "267/267 [==============================] - 0s 2ms/step - loss: 0.3217 - accuracy: 0.8709\n",
            "Epoch 62/150\n",
            "267/267 [==============================] - 0s 2ms/step - loss: 0.3205 - accuracy: 0.8700\n",
            "Epoch 63/150\n",
            "267/267 [==============================] - 0s 2ms/step - loss: 0.3230 - accuracy: 0.8696\n",
            "Epoch 64/150\n",
            "267/267 [==============================] - 0s 2ms/step - loss: 0.3202 - accuracy: 0.8686\n",
            "Epoch 65/150\n",
            "267/267 [==============================] - 0s 2ms/step - loss: 0.3216 - accuracy: 0.8712\n",
            "Epoch 66/150\n",
            "267/267 [==============================] - 0s 2ms/step - loss: 0.3215 - accuracy: 0.8670\n",
            "Epoch 67/150\n",
            "267/267 [==============================] - 0s 2ms/step - loss: 0.3221 - accuracy: 0.8705\n",
            "Epoch 68/150\n",
            "267/267 [==============================] - 0s 2ms/step - loss: 0.3221 - accuracy: 0.8677\n",
            "Epoch 69/150\n",
            "267/267 [==============================] - 0s 2ms/step - loss: 0.3203 - accuracy: 0.8701\n",
            "Epoch 70/150\n",
            "267/267 [==============================] - 0s 2ms/step - loss: 0.3214 - accuracy: 0.8708\n",
            "Epoch 71/150\n",
            "267/267 [==============================] - 0s 2ms/step - loss: 0.3202 - accuracy: 0.8715\n",
            "Epoch 72/150\n",
            "267/267 [==============================] - 0s 2ms/step - loss: 0.3208 - accuracy: 0.8701\n",
            "Epoch 73/150\n",
            "267/267 [==============================] - 0s 2ms/step - loss: 0.3203 - accuracy: 0.8706\n",
            "Epoch 74/150\n",
            "267/267 [==============================] - 0s 2ms/step - loss: 0.3208 - accuracy: 0.8695\n",
            "Epoch 75/150\n",
            "267/267 [==============================] - 0s 2ms/step - loss: 0.3216 - accuracy: 0.8686\n",
            "Epoch 76/150\n",
            "267/267 [==============================] - 0s 2ms/step - loss: 0.3208 - accuracy: 0.8684\n",
            "Epoch 77/150\n",
            "267/267 [==============================] - 0s 2ms/step - loss: 0.3209 - accuracy: 0.8708\n",
            "Epoch 78/150\n",
            "267/267 [==============================] - 0s 2ms/step - loss: 0.3204 - accuracy: 0.8695\n",
            "Epoch 79/150\n",
            "267/267 [==============================] - 0s 2ms/step - loss: 0.3203 - accuracy: 0.8694\n",
            "Epoch 80/150\n",
            "267/267 [==============================] - 0s 2ms/step - loss: 0.3208 - accuracy: 0.8708\n",
            "Epoch 81/150\n",
            "267/267 [==============================] - 0s 2ms/step - loss: 0.3207 - accuracy: 0.8689\n",
            "Epoch 82/150\n",
            "267/267 [==============================] - 0s 2ms/step - loss: 0.3199 - accuracy: 0.8683\n",
            "Epoch 83/150\n",
            "267/267 [==============================] - 0s 2ms/step - loss: 0.3211 - accuracy: 0.8711\n",
            "Epoch 84/150\n",
            "267/267 [==============================] - 0s 2ms/step - loss: 0.3196 - accuracy: 0.8691\n",
            "Epoch 85/150\n",
            "267/267 [==============================] - 0s 2ms/step - loss: 0.3204 - accuracy: 0.8717\n",
            "Epoch 86/150\n",
            "267/267 [==============================] - 0s 2ms/step - loss: 0.3209 - accuracy: 0.8687\n",
            "Epoch 87/150\n",
            "267/267 [==============================] - 0s 2ms/step - loss: 0.3205 - accuracy: 0.8705\n",
            "Epoch 88/150\n",
            "267/267 [==============================] - 0s 2ms/step - loss: 0.3208 - accuracy: 0.8695\n",
            "Epoch 89/150\n",
            "267/267 [==============================] - 0s 2ms/step - loss: 0.3222 - accuracy: 0.8686\n",
            "Epoch 90/150\n",
            "267/267 [==============================] - 0s 2ms/step - loss: 0.3206 - accuracy: 0.8702\n",
            "Epoch 91/150\n",
            "267/267 [==============================] - 0s 2ms/step - loss: 0.3207 - accuracy: 0.8691\n",
            "Epoch 92/150\n",
            "267/267 [==============================] - 0s 2ms/step - loss: 0.3195 - accuracy: 0.8714\n",
            "Epoch 93/150\n",
            "267/267 [==============================] - 0s 2ms/step - loss: 0.3203 - accuracy: 0.8712\n",
            "Epoch 94/150\n",
            "267/267 [==============================] - 0s 2ms/step - loss: 0.3203 - accuracy: 0.8698\n",
            "Epoch 95/150\n",
            "267/267 [==============================] - 0s 2ms/step - loss: 0.3208 - accuracy: 0.8680\n",
            "Epoch 96/150\n",
            "267/267 [==============================] - 0s 2ms/step - loss: 0.3201 - accuracy: 0.8680\n",
            "Epoch 97/150\n",
            "267/267 [==============================] - 0s 2ms/step - loss: 0.3207 - accuracy: 0.8700\n",
            "Epoch 98/150\n",
            "267/267 [==============================] - 0s 2ms/step - loss: 0.3206 - accuracy: 0.8691\n",
            "Epoch 99/150\n",
            "267/267 [==============================] - 0s 2ms/step - loss: 0.3198 - accuracy: 0.8689\n",
            "Epoch 100/150\n",
            "267/267 [==============================] - 0s 2ms/step - loss: 0.3201 - accuracy: 0.8698\n",
            "Epoch 101/150\n",
            "267/267 [==============================] - 0s 2ms/step - loss: 0.3205 - accuracy: 0.8686\n",
            "Epoch 102/150\n",
            "267/267 [==============================] - 0s 2ms/step - loss: 0.3204 - accuracy: 0.8700\n",
            "Epoch 103/150\n",
            "267/267 [==============================] - 0s 2ms/step - loss: 0.3203 - accuracy: 0.8705\n",
            "Epoch 104/150\n",
            "267/267 [==============================] - 0s 2ms/step - loss: 0.3194 - accuracy: 0.8694\n",
            "Epoch 105/150\n",
            "267/267 [==============================] - 0s 2ms/step - loss: 0.3195 - accuracy: 0.8698\n",
            "Epoch 106/150\n",
            "267/267 [==============================] - 0s 2ms/step - loss: 0.3202 - accuracy: 0.8695\n",
            "Epoch 107/150\n",
            "267/267 [==============================] - 0s 2ms/step - loss: 0.3204 - accuracy: 0.8671\n",
            "Epoch 108/150\n",
            "267/267 [==============================] - 0s 2ms/step - loss: 0.3199 - accuracy: 0.8711\n",
            "Epoch 109/150\n",
            "267/267 [==============================] - 0s 2ms/step - loss: 0.3183 - accuracy: 0.8709\n",
            "Epoch 110/150\n",
            "267/267 [==============================] - 0s 2ms/step - loss: 0.3205 - accuracy: 0.8686\n",
            "Epoch 111/150\n",
            "267/267 [==============================] - 0s 2ms/step - loss: 0.3194 - accuracy: 0.8692\n",
            "Epoch 112/150\n",
            "267/267 [==============================] - 0s 2ms/step - loss: 0.3208 - accuracy: 0.8677\n",
            "Epoch 113/150\n",
            "267/267 [==============================] - 0s 2ms/step - loss: 0.3187 - accuracy: 0.8708\n",
            "Epoch 114/150\n",
            "267/267 [==============================] - 0s 2ms/step - loss: 0.3200 - accuracy: 0.8715\n",
            "Epoch 115/150\n",
            "267/267 [==============================] - 0s 2ms/step - loss: 0.3207 - accuracy: 0.8676\n",
            "Epoch 116/150\n",
            "267/267 [==============================] - 0s 2ms/step - loss: 0.3193 - accuracy: 0.8680\n",
            "Epoch 117/150\n",
            "267/267 [==============================] - 0s 2ms/step - loss: 0.3198 - accuracy: 0.8685\n",
            "Epoch 118/150\n",
            "267/267 [==============================] - 0s 2ms/step - loss: 0.3198 - accuracy: 0.8712\n",
            "Epoch 119/150\n",
            "267/267 [==============================] - 0s 2ms/step - loss: 0.3202 - accuracy: 0.8686\n",
            "Epoch 120/150\n",
            "267/267 [==============================] - 0s 2ms/step - loss: 0.3190 - accuracy: 0.8711\n",
            "Epoch 121/150\n",
            "267/267 [==============================] - 0s 2ms/step - loss: 0.3189 - accuracy: 0.8711\n",
            "Epoch 122/150\n",
            "267/267 [==============================] - 0s 2ms/step - loss: 0.3195 - accuracy: 0.8692\n",
            "Epoch 123/150\n",
            "267/267 [==============================] - 0s 2ms/step - loss: 0.3195 - accuracy: 0.8706\n",
            "Epoch 124/150\n",
            "267/267 [==============================] - 0s 2ms/step - loss: 0.3193 - accuracy: 0.8694\n",
            "Epoch 125/150\n",
            "267/267 [==============================] - 0s 2ms/step - loss: 0.3194 - accuracy: 0.8694\n",
            "Epoch 126/150\n",
            "267/267 [==============================] - 0s 2ms/step - loss: 0.3192 - accuracy: 0.8690\n",
            "Epoch 127/150\n",
            "267/267 [==============================] - 0s 2ms/step - loss: 0.3196 - accuracy: 0.8701\n",
            "Epoch 128/150\n",
            "267/267 [==============================] - 0s 2ms/step - loss: 0.3195 - accuracy: 0.8699\n",
            "Epoch 129/150\n",
            "267/267 [==============================] - 0s 2ms/step - loss: 0.3190 - accuracy: 0.8695\n",
            "Epoch 130/150\n",
            "267/267 [==============================] - 0s 2ms/step - loss: 0.3201 - accuracy: 0.8690\n",
            "Epoch 131/150\n",
            "267/267 [==============================] - 0s 2ms/step - loss: 0.3195 - accuracy: 0.8726\n",
            "Epoch 132/150\n",
            "267/267 [==============================] - 0s 2ms/step - loss: 0.3191 - accuracy: 0.8704\n",
            "Epoch 133/150\n",
            "267/267 [==============================] - 0s 2ms/step - loss: 0.3199 - accuracy: 0.8708\n",
            "Epoch 134/150\n",
            "267/267 [==============================] - 0s 2ms/step - loss: 0.3194 - accuracy: 0.8708\n",
            "Epoch 135/150\n",
            "267/267 [==============================] - 0s 2ms/step - loss: 0.3203 - accuracy: 0.8691\n",
            "Epoch 136/150\n",
            "267/267 [==============================] - 0s 2ms/step - loss: 0.3178 - accuracy: 0.8698\n",
            "Epoch 137/150\n",
            "267/267 [==============================] - 1s 2ms/step - loss: 0.3193 - accuracy: 0.8685\n",
            "Epoch 138/150\n",
            "267/267 [==============================] - 0s 2ms/step - loss: 0.3191 - accuracy: 0.8695\n",
            "Epoch 139/150\n",
            "267/267 [==============================] - 0s 2ms/step - loss: 0.3186 - accuracy: 0.8686\n",
            "Epoch 140/150\n",
            "267/267 [==============================] - 0s 2ms/step - loss: 0.3206 - accuracy: 0.8694\n",
            "Epoch 141/150\n",
            "267/267 [==============================] - 0s 2ms/step - loss: 0.3198 - accuracy: 0.8687\n",
            "Epoch 142/150\n",
            "267/267 [==============================] - 0s 2ms/step - loss: 0.3193 - accuracy: 0.8708\n",
            "Epoch 143/150\n",
            "267/267 [==============================] - 0s 2ms/step - loss: 0.3196 - accuracy: 0.8699\n",
            "Epoch 144/150\n",
            "267/267 [==============================] - 0s 2ms/step - loss: 0.3199 - accuracy: 0.8704\n",
            "Epoch 145/150\n",
            "267/267 [==============================] - 0s 2ms/step - loss: 0.3186 - accuracy: 0.8706\n",
            "Epoch 146/150\n",
            "267/267 [==============================] - 0s 2ms/step - loss: 0.3197 - accuracy: 0.8701\n",
            "Epoch 147/150\n",
            "267/267 [==============================] - 0s 2ms/step - loss: 0.3186 - accuracy: 0.8692\n",
            "Epoch 148/150\n",
            "267/267 [==============================] - 0s 2ms/step - loss: 0.3187 - accuracy: 0.8701\n",
            "Epoch 149/150\n",
            "267/267 [==============================] - 0s 2ms/step - loss: 0.3201 - accuracy: 0.8695\n",
            "Epoch 150/150\n",
            "267/267 [==============================] - 0s 2ms/step - loss: 0.3187 - accuracy: 0.8699\n"
          ]
        },
        {
          "output_type": "execute_result",
          "data": {
            "text/plain": [
              "<keras.callbacks.History at 0x7f6be2869550>"
            ]
          },
          "metadata": {},
          "execution_count": 60
        }
      ]
    },
    {
      "cell_type": "markdown",
      "metadata": {
        "id": "ZhU1LTgPg-kH"
      },
      "source": [
        "**Solution**"
      ]
    },
    {
      "cell_type": "markdown",
      "metadata": {
        "id": "5AynywuzN8Yb"
      },
      "source": [
        "## Part 4 Evaluating the model"
      ]
    },
    {
      "cell_type": "markdown",
      "metadata": {
        "id": "u7yx47jPZt11"
      },
      "source": [
        "### Predicting the Test set results"
      ]
    },
    {
      "cell_type": "code",
      "metadata": {
        "colab": {
          "base_uri": "https://localhost:8080/"
        },
        "id": "DaM_ZvSx5GIE",
        "outputId": "e5c77ae7-86b8-4d04-d784-6ddde223222c"
      },
      "source": [
        "ypred=ann.predict(xtest)\n",
        "ypred = (ypred > 0.5)\n",
        "print(np.concatenate((ypred.reshape(len(ypred),1),ytest.reshape(len(ytest),1)),1))"
      ],
      "execution_count": null,
      "outputs": [
        {
          "output_type": "stream",
          "name": "stdout",
          "text": [
            "[[0 0]\n",
            " [0 0]\n",
            " [0 0]\n",
            " ...\n",
            " [0 0]\n",
            " [0 0]\n",
            " [0 0]]\n"
          ]
        }
      ]
    },
    {
      "cell_type": "markdown",
      "metadata": {
        "id": "o0oyfLWoaEGw"
      },
      "source": [
        "### Making the Confusion Matrix"
      ]
    },
    {
      "cell_type": "code",
      "metadata": {
        "id": "ci6K_r6LaF6P",
        "colab": {
          "base_uri": "https://localhost:8080/"
        },
        "outputId": "b4daa283-cb55-4dd9-f105-6c56fc676e19"
      },
      "source": [
        "from sklearn.metrics import confusion_matrix, accuracy_score\n",
        "cm = confusion_matrix(y_test, y_pred)\n",
        "print(cm)\n",
        "accuracy_score(y_test, y_pred)"
      ],
      "execution_count": null,
      "outputs": [
        {
          "output_type": "stream",
          "name": "stdout",
          "text": [
            "[[1507   88]\n",
            " [ 191  214]]\n"
          ]
        },
        {
          "output_type": "execute_result",
          "data": {
            "text/plain": [
              "0.8605"
            ]
          },
          "metadata": {},
          "execution_count": 63
        }
      ]
    },
    {
      "cell_type": "markdown",
      "metadata": {
        "id": "84QFoqGYeXHL"
      },
      "source": [
        "### Predicting the result of a single observation"
      ]
    },
    {
      "cell_type": "code",
      "metadata": {
        "colab": {
          "base_uri": "https://localhost:8080/"
        },
        "id": "8XeT8cubFaLu",
        "outputId": "99859fca-3767-49cc-92a7-9bf2acf9715e"
      },
      "source": [
        "cs,age,tn,bal,p,s=input(\"ENTER CREDIT SCORE, AGE, TENURE, BALANCE, number of PRODUCTS, SALARY(in $): (IN SAME ORDER)  \").split()\n",
        "s1,s2,s3=input(\"ENTER 1 0 0 if COUNTRY is FRANCE  0 1 0 if COUNTRY is GERMANY  0 0 1 if COUNTRY is SPAIN  \").split()\n",
        "g=input(\"ENTER 0 if You Are Female  or 1 if You Are Male  \")\n",
        "card=input(\"ENTER 1 if You Have Credit Card  or 0 Otherwise  \")\n",
        "act=input(\"ENTER 1 if Active Account  or 0 Otherwise  \")\n",
        "print(ann.predict(sc.transform([[float(s1),float(s2),float(s3),float(cs),float(g),float(age),float(tn),float(bal),float(p),float(card),float(act),float(s)]]))>0.5)"
      ],
      "execution_count": null,
      "outputs": [
        {
          "name": "stdout",
          "output_type": "stream",
          "text": [
            "ENTER CREDIT SCORE, AGE, TENURE, BALANCE, number of PRODUCTS, SALARY(in $): (IN SAME ORDER)  550 25 1 20000 2 40000\n",
            "ENTER 1 0 0 if COUNTRY is FRANCE  0 1 0 if COUNTRY is GERMANY  0 0 1 if COUNTRY is SPAIN  0 1 0\n",
            "ENTER 0 if You Are Female  or 1 if You Are Male  1\n"
          ]
        }
      ]
    }
  ]
}